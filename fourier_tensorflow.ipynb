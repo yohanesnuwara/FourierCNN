{
  "nbformat": 4,
  "nbformat_minor": 0,
  "metadata": {
    "colab": {
      "name": "fourier-tensorflow.ipynb",
      "provenance": [],
      "collapsed_sections": [],
      "authorship_tag": "ABX9TyNbKZ051mCHPyJWEA0088Mb",
      "include_colab_link": true
    },
    "kernelspec": {
      "name": "python3",
      "display_name": "Python 3"
    },
    "language_info": {
      "name": "python"
    }
  },
  "cells": [
    {
      "cell_type": "markdown",
      "metadata": {
        "id": "view-in-github",
        "colab_type": "text"
      },
      "source": [
        "<a href=\"https://colab.research.google.com/github/yohanesnuwara/FourierCNN/blob/main/fourier_tensorflow.ipynb\" target=\"_parent\"><img src=\"https://colab.research.google.com/assets/colab-badge.svg\" alt=\"Open In Colab\"/></a>"
      ]
    },
    {
      "cell_type": "code",
      "execution_count": 1,
      "metadata": {
        "id": "d3Cu778i4Is6"
      },
      "outputs": [],
      "source": [
        "import numpy as np\n",
        "import matplotlib.pyplot as plt\n",
        "import tensorflow as tf\n",
        "from tensorflow.keras.datasets import mnist"
      ]
    },
    {
      "cell_type": "code",
      "source": [
        "# Load MNIST data\n",
        "(X_train, y_train), (X_test, y_test) = mnist.load_data()\n",
        "\n",
        "X_train.shape"
      ],
      "metadata": {
        "colab": {
          "base_uri": "https://localhost:8080/"
        },
        "id": "F_sd9_avXxCd",
        "outputId": "eafc193b-cb08-4b39-f54d-3cbd9eb40133"
      },
      "execution_count": 2,
      "outputs": [
        {
          "output_type": "stream",
          "name": "stdout",
          "text": [
            "Downloading data from https://storage.googleapis.com/tensorflow/tf-keras-datasets/mnist.npz\n",
            "11493376/11490434 [==============================] - 0s 0us/step\n",
            "11501568/11490434 [==============================] - 0s 0us/step\n"
          ]
        },
        {
          "output_type": "execute_result",
          "data": {
            "text/plain": [
              "(60000, 28, 28)"
            ]
          },
          "metadata": {},
          "execution_count": 2
        }
      ]
    },
    {
      "cell_type": "code",
      "source": [
        "# Pick one digit\n",
        "img = X_train[50,...]\n",
        "plt.imshow(img)\n",
        "plt.show()"
      ],
      "metadata": {
        "colab": {
          "base_uri": "https://localhost:8080/",
          "height": 265
        },
        "id": "MjAHWRnfYJSF",
        "outputId": "0065ee5b-c0a2-4f1e-8b77-bbaa4a7d277c"
      },
      "execution_count": 3,
      "outputs": [
        {
          "output_type": "display_data",
          "data": {
            "image/png": "[encoded data removed]",
            "text/plain": [
              "<Figure size 432x288 with 1 Axes>"
            ]
          },
          "metadata": {
            "needs_background": "light"
          }
        }
      ]
    },
    {
      "cell_type": "code",
      "source": [
        "# Expand dimension to fit with tensorflow operation\n",
        "# Shape: (batch,height,width,channel)\n",
        "img = img[np.newaxis,...,np.newaxis]\n",
        "\n",
        "# Convert to float32 dtype\n",
        "img = img.astype('float32')\n",
        "\n",
        "img.shape"
      ],
      "metadata": {
        "colab": {
          "base_uri": "https://localhost:8080/"
        },
        "id": "yiFrWtlsYgGV",
        "outputId": "22d5f28d-221b-4a1f-a819-593b3e959db3"
      },
      "execution_count": 4,
      "outputs": [
        {
          "output_type": "execute_result",
          "data": {
            "text/plain": [
              "(1, 28, 28, 1)"
            ]
          },
          "metadata": {},
          "execution_count": 4
        }
      ]
    },
    {
      "cell_type": "markdown",
      "source": [
        "Create 10 filter kernels. This image will be convolved with each of the kernels."
      ],
      "metadata": {
        "id": "xJuLMDRmZ1YT"
      }
    },
    {
      "cell_type": "code",
      "source": [
        "# Shape: (filters,height,width,channel)\n",
        "tf.random.set_seed(1234)\n",
        "k = tf.random.normal([10,5,5,1], dtype=tf.float32)"
      ],
      "metadata": {
        "id": "vIAxat42Z6JQ"
      },
      "execution_count": 5,
      "outputs": []
    },
    {
      "cell_type": "code",
      "source": [
        "# Plot first 5 kernels\n",
        "plt.figure(figsize=(10,10))\n",
        "for i in range(k.shape[0]):\n",
        "  if i<5:\n",
        "    plt.subplot(1,5,i+1)\n",
        "    plt.imshow(k[i,:,:,0])\n",
        "\n",
        "plt.tight_layout()\n",
        "plt.show()"
      ],
      "metadata": {
        "colab": {
          "base_uri": "https://localhost:8080/",
          "height": 166
        },
        "id": "_gBpn-gzakv-",
        "outputId": "e871b74e-7863-48b8-ac34-1617f13f6a12"
      },
      "execution_count": 6,
      "outputs": [
        {
          "output_type": "display_data",
          "data": {
            "image/png": "[encoded data removed]",
            "text/plain": [
              "<Figure size 720x720 with 5 Axes>"
            ]
          },
          "metadata": {
            "needs_background": "light"
          }
        }
      ]
    },
    {
      "cell_type": "markdown",
      "source": [
        "Convolution operation in tensorflow"
      ],
      "metadata": {
        "id": "Ev1DjUjvZrjN"
      }
    },
    {
      "cell_type": "code",
      "source": [
        "kt = tf.transpose(k, perm=[2,1,3,0])\n",
        "\n",
        "kt.shape"
      ],
      "metadata": {
        "colab": {
          "base_uri": "https://localhost:8080/"
        },
        "id": "8KkoAD87bzQJ",
        "outputId": "8fa0ec2c-1f48-440c-f5db-2c704b3d3761"
      },
      "execution_count": 7,
      "outputs": [
        {
          "output_type": "execute_result",
          "data": {
            "text/plain": [
              "TensorShape([5, 5, 1, 10])"
            ]
          },
          "metadata": {},
          "execution_count": 7
        }
      ]
    },
    {
      "cell_type": "code",
      "source": [
        "# Transpose kernel\n",
        "kt = tf.transpose(k, perm=[2,1,3,0])\n",
        "\n",
        "# Convolve image and kernel\n",
        "ret = tf.nn.conv2d(img, kt, [1,1,1,1], padding='SAME')\n",
        "\n",
        "ret.shape"
      ],
      "metadata": {
        "colab": {
          "base_uri": "https://localhost:8080/"
        },
        "id": "_FnEynJdZjQP",
        "outputId": "9f6938b9-0287-4c5e-ed0e-45dfcd21aa3f"
      },
      "execution_count": 8,
      "outputs": [
        {
          "output_type": "execute_result",
          "data": {
            "text/plain": [
              "TensorShape([1, 28, 28, 10])"
            ]
          },
          "metadata": {},
          "execution_count": 8
        }
      ]
    },
    {
      "cell_type": "code",
      "source": [
        "# Plot result of convolution with first 5 kernels\n",
        "plt.figure(figsize=(10,10))\n",
        "for i in range(k.shape[0]):\n",
        "  if i<5:\n",
        "    plt.subplot(1,5,i+1)\n",
        "    plt.imshow(ret[0,:,:,i])\n",
        "    plt.title(f'Kernel {i+1}')\n",
        "\n",
        "plt.tight_layout()\n",
        "plt.show()"
      ],
      "metadata": {
        "colab": {
          "base_uri": "https://localhost:8080/",
          "height": 175
        },
        "id": "XdFEsgSycQyk",
        "outputId": "2ccfa703-9196-4219-f944-14882f8bbbcc"
      },
      "execution_count": 9,
      "outputs": [
        {
          "output_type": "display_data",
          "data": {
            "image/png": "[encoded data removed]",
            "text/plain": [
              "<Figure size 720x720 with 5 Axes>"
            ]
          },
          "metadata": {
            "needs_background": "light"
          }
        }
      ]
    },
    {
      "cell_type": "markdown",
      "source": [
        "Fast Fourier Transform (FFT) convolution"
      ],
      "metadata": {
        "id": "UKNFQndjc68j"
      }
    },
    {
      "cell_type": "code",
      "source": [
        "# New shape after FFT convolution\n",
        "# Notice that new shape is BIGGER than original image\n",
        "k_shape = np.array([5,5]) # kernel shape\n",
        "img_shape = np.array([28,28]) # image shape\n",
        "\n",
        "new_shape = k_shape + img_shape - 1\n",
        "\n",
        "new_shape"
      ],
      "metadata": {
        "colab": {
          "base_uri": "https://localhost:8080/"
        },
        "id": "7reKA2i7dCvA",
        "outputId": "ed45e052-f8cc-4bad-badf-17f618de327a"
      },
      "execution_count": 15,
      "outputs": [
        {
          "output_type": "execute_result",
          "data": {
            "text/plain": [
              "array([32, 32])"
            ]
          },
          "metadata": {},
          "execution_count": 15
        }
      ]
    },
    {
      "cell_type": "code",
      "source": [
        "# Transpose image and kernel\n",
        "in1 = tf.transpose(img, perm=[0, 3, 1, 2])\n",
        "in2 = tf.transpose(k, perm=[0, 3, 1, 2])\n",
        "\n",
        "# FFT of image and kernel\n",
        "sp1 = tf.signal.rfft2d(in1, new_shape)\n",
        "sp2 = tf.signal.rfft2d(in2, new_shape)\n",
        "\n",
        "# Multiply FFTs and inverse FFT\n",
        "ret = tf.signal.irfft2d(sp1*sp2)\n",
        "\n",
        "ret.shape"
      ],
      "metadata": {
        "colab": {
          "base_uri": "https://localhost:8080/"
        },
        "id": "tDoHfNj7gKd4",
        "outputId": "96647bec-fa53-4d72-a850-6f388167bd84"
      },
      "execution_count": 16,
      "outputs": [
        {
          "output_type": "execute_result",
          "data": {
            "text/plain": [
              "TensorShape([10, 1, 32, 32])"
            ]
          },
          "metadata": {},
          "execution_count": 16
        }
      ]
    },
    {
      "cell_type": "code",
      "source": [
        "# Plot result of convolution with first 5 kernels\n",
        "plt.figure(figsize=(10,10))\n",
        "for i in range(k.shape[0]):\n",
        "  if i<5:\n",
        "    plt.subplot(1,5,i+1)\n",
        "    plt.imshow(ret[i,0,:,:])\n",
        "    plt.title(f'Kernel {i+1}')\n",
        "\n",
        "plt.tight_layout()\n",
        "plt.show()"
      ],
      "metadata": {
        "colab": {
          "base_uri": "https://localhost:8080/",
          "height": 175
        },
        "id": "o21pj_M7g_2W",
        "outputId": "124ea47c-fea6-426f-cfae-58b297e3100c"
      },
      "execution_count": 17,
      "outputs": [
        {
          "output_type": "display_data",
          "data": {
            "image/png": "[encoded data removed]",
            "text/plain": [
              "<Figure size 720x720 with 5 Axes>"
            ]
          },
          "metadata": {
            "needs_background": "light"
          }
        }
      ]
    }
  ]
}